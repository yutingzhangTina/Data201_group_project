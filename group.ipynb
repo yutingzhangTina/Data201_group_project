{
 "cells": [
  {
   "cell_type": "code",
   "execution_count": 1,
   "id": "c4143af1-74af-4c2e-ba7d-ace85a359c34",
   "metadata": {},
   "outputs": [
    {
     "name": "stdout",
     "output_type": "stream",
     "text": [
      "package 'readxl' successfully unpacked and MD5 sums checked\n",
      "\n",
      "The downloaded binary packages are in\n",
      "\tC:\\Users\\User\\AppData\\Local\\Temp\\RtmpaygsQf\\downloaded_packages\n",
      "package 'tibble' successfully unpacked and MD5 sums checked\n",
      "\n",
      "The downloaded binary packages are in\n",
      "\tC:\\Users\\User\\AppData\\Local\\Temp\\RtmpaygsQf\\downloaded_packages\n"
     ]
    }
   ],
   "source": [
    "install.packages(\"readxl\")\n",
    "install.packages(\"tibble\")\n"
   ]
  },
  {
   "cell_type": "code",
   "execution_count": 1,
   "id": "9e7ab0b4-1461-40cd-8d50-0d30cad651db",
   "metadata": {},
   "outputs": [
    {
     "name": "stderr",
     "output_type": "stream",
     "text": [
      "\n",
      "Attaching package: 'dplyr'\n",
      "\n",
      "\n",
      "The following objects are masked from 'package:stats':\n",
      "\n",
      "    filter, lag\n",
      "\n",
      "\n",
      "The following objects are masked from 'package:base':\n",
      "\n",
      "    intersect, setdiff, setequal, union\n",
      "\n",
      "\n"
     ]
    }
   ],
   "source": [
    "# 加载必要的库\n",
    "library(ggplot2)\n",
    "library(readxl)\n",
    "library(tibble)\n",
    "library(dplyr)\n"
   ]
  },
  {
   "cell_type": "code",
   "execution_count": 3,
   "id": "c33e5636-c544-4b57-b2c8-24445b478494",
   "metadata": {},
   "outputs": [
    {
     "name": "stderr",
     "output_type": "stream",
     "text": [
      "\u001b[1m\u001b[22mNew names:\n",
      "\u001b[36m•\u001b[39m `` -> `...2`\n",
      "\u001b[36m•\u001b[39m `` -> `...3`\n",
      "\u001b[36m•\u001b[39m `` -> `...4`\n",
      "\u001b[36m•\u001b[39m `` -> `...5`\n",
      "\u001b[36m•\u001b[39m `` -> `...6`\n",
      "\u001b[36m•\u001b[39m `` -> `...7`\n",
      "\u001b[36m•\u001b[39m `` -> `...8`\n",
      "\u001b[36m•\u001b[39m `` -> `...9`\n",
      "\u001b[36m•\u001b[39m `` -> `...10`\n",
      "\u001b[36m•\u001b[39m `` -> `...11`\n",
      "\u001b[36m•\u001b[39m `` -> `...12`\n",
      "\u001b[36m•\u001b[39m `` -> `...13`\n",
      "\u001b[36m•\u001b[39m `` -> `...14`\n",
      "\u001b[36m•\u001b[39m `` -> `...15`\n"
     ]
    }
   ],
   "source": [
    "file_path <- \"international-travel-june-2020.xlsx\"\n",
    "data <- read_excel(file_path, sheet = \"Table 1\")\n",
    "\n",
    "data <- as_tibble(data)\n"
   ]
  },
  {
   "cell_type": "code",
   "execution_count": 4,
   "id": "fef49b0e-d311-4020-875f-48a946e7af91",
   "metadata": {},
   "outputs": [
    {
     "name": "stdout",
     "output_type": "stream",
     "text": [
      "\u001b[90m# A tibble: 46 × 15\u001b[39m\n",
      "   `Table 1`   ...2  ...3  ...4  ...5  ...6  ...7  ...8  ...9  ...10 ...11 ...12\n",
      "   \u001b[3m\u001b[90m<chr>\u001b[39m\u001b[23m       \u001b[3m\u001b[90m<chr>\u001b[39m\u001b[23m \u001b[3m\u001b[90m<chr>\u001b[39m\u001b[23m \u001b[3m\u001b[90m<chr>\u001b[39m\u001b[23m \u001b[3m\u001b[90m<chr>\u001b[39m\u001b[23m \u001b[3m\u001b[90m<chr>\u001b[39m\u001b[23m \u001b[3m\u001b[90m<chr>\u001b[39m\u001b[23m \u001b[3m\u001b[90m<chr>\u001b[39m\u001b[23m \u001b[3m\u001b[90m<chr>\u001b[39m\u001b[23m \u001b[3m\u001b[90m<chr>\u001b[39m\u001b[23m \u001b[3m\u001b[90m<chr>\u001b[39m\u001b[23m \u001b[3m\u001b[90m<chr>\u001b[39m\u001b[23m\n",
      "\u001b[90m 1\u001b[39m Internatio… \u001b[31mNA\u001b[39m    \u001b[31mNA\u001b[39m    \u001b[31mNA\u001b[39m    \u001b[31mNA\u001b[39m    \u001b[31mNA\u001b[39m    \u001b[31mNA\u001b[39m    \u001b[31mNA\u001b[39m    \u001b[31mNA\u001b[39m    \u001b[31mNA\u001b[39m    \u001b[31mNA\u001b[39m    \u001b[31mNA\u001b[39m   \n",
      "\u001b[90m 2\u001b[39m By directi… \u001b[31mNA\u001b[39m    \u001b[31mNA\u001b[39m    \u001b[31mNA\u001b[39m    \u001b[31mNA\u001b[39m    \u001b[31mNA\u001b[39m    \u001b[31mNA\u001b[39m    \u001b[31mNA\u001b[39m    \u001b[31mNA\u001b[39m    \u001b[31mNA\u001b[39m    \u001b[31mNA\u001b[39m    \u001b[31mNA\u001b[39m   \n",
      "\u001b[90m 3\u001b[39m Period      Stat… Arri… \u001b[31mNA\u001b[39m    \u001b[31mNA\u001b[39m    \u001b[31mNA\u001b[39m    \u001b[31mNA\u001b[39m    \u001b[31mNA\u001b[39m    Depa… \u001b[31mNA\u001b[39m    \u001b[31mNA\u001b[39m    \u001b[31mNA\u001b[39m   \n",
      "\u001b[90m 4\u001b[39m \u001b[31mNA\u001b[39m          \u001b[31mNA\u001b[39m    Inte… \u001b[31mNA\u001b[39m    \u001b[31mNA\u001b[39m    Outc… \u001b[31mNA\u001b[39m    Tota… Inte… \u001b[31mNA\u001b[39m    \u001b[31mNA\u001b[39m    Outc…\n",
      "\u001b[90m 5\u001b[39m \u001b[31mNA\u001b[39m          \u001b[31mNA\u001b[39m    Over… NZ-r… Resi… Shor… Long… \u001b[31mNA\u001b[39m    Over… NZ-r… Resi… Shor…\n",
      "\u001b[90m 6\u001b[39m Series ref… \u001b[31mNA\u001b[39m    SVAZA SRAZA \u001b[31mNA\u001b[39m    \u001b[31mNA\u001b[39m    SEMA… STZAA SVDZA SRDZA \u001b[31mNA\u001b[39m    \u001b[31mNA\u001b[39m   \n",
      "\u001b[90m 7\u001b[39m June month  \u001b[31mNA\u001b[39m    \u001b[31mNA\u001b[39m    \u001b[31mNA\u001b[39m    \u001b[31mNA\u001b[39m    \u001b[31mNA\u001b[39m    \u001b[31mNA\u001b[39m    \u001b[31mNA\u001b[39m    \u001b[31mNA\u001b[39m    \u001b[31mNA\u001b[39m    \u001b[31mNA\u001b[39m    \u001b[31mNA\u001b[39m   \n",
      "\u001b[90m 8\u001b[39m 2010        F     1458… 1641… 5201  3084… 6709  3151… 1336… 1988… 5934  3301…\n",
      "\u001b[90m 9\u001b[39m 2011        F     1312… 1686… 5436  2988… 6585  3053… 1264… 1924… 6927  3166…\n",
      "\u001b[90m10\u001b[39m 2012        F     1510… 1734… 6049  3233… 7273  3305… 1381… 2210… 7078  3568…\n",
      "\u001b[90m11\u001b[39m 2013        F     1594… 1818… 6506  3392… 8563  3478… 1484… 1988… 5870  3450…\n",
      "\u001b[90m12\u001b[39m 2014        F     1621… 1897… 7416  3502… 9059  3593… 1585… 2065… 4839  3629…\n",
      "\u001b[90m13\u001b[39m 2015        F     1769… 2014… 7979  3767… 9622  3863… 1735… 2207… 4965  3923…\n",
      "\u001b[90m14\u001b[39m 2016        F     1962… 2145… 8206  4089… 10019 4190… 1869… 2394… 4534  4241…\n",
      "\u001b[90m15\u001b[39m 2017        F     2300… 2248… 9158  4537… 10319 4640… 1997… 2618… 5145  4592…\n",
      "\u001b[90m16\u001b[39m 2018        F     2122… 2446… 8485  4558… 9565  4654… 2043… 2885… 5720  4910…\n",
      "\u001b[90m17\u001b[39m 2019        P     2135… 2573… 7626  4673… 11118 4784… 2022… 3015… 0     4957…\n",
      "\u001b[90m18\u001b[39m 2020        P     3521  4474  1275  7807  1463  9270  9944  5053  0     14004\n",
      "\u001b[90m19\u001b[39m Year ended… \u001b[31mNA\u001b[39m    \u001b[31mNA\u001b[39m    \u001b[31mNA\u001b[39m    \u001b[31mNA\u001b[39m    \u001b[31mNA\u001b[39m    \u001b[31mNA\u001b[39m    \u001b[31mNA\u001b[39m    \u001b[31mNA\u001b[39m    \u001b[31mNA\u001b[39m    \u001b[31mNA\u001b[39m    \u001b[31mNA\u001b[39m   \n",
      "\u001b[90m20\u001b[39m \u001b[31mNA\u001b[39m          \u001b[31mNA\u001b[39m    \u001b[31mNA\u001b[39m    \u001b[31mNA\u001b[39m    \u001b[31mNA\u001b[39m    \u001b[31mNA\u001b[39m    \u001b[31mNA\u001b[39m    \u001b[31mNA\u001b[39m    \u001b[31mNA\u001b[39m    \u001b[31mNA\u001b[39m    \u001b[31mNA\u001b[39m    \u001b[31mNA\u001b[39m   \n",
      "\u001b[90m21\u001b[39m 2010        F     2501… 1965… 82305 4446… 1017… 4548… 2513… 1968… 65801 4454…\n",
      "\u001b[90m22\u001b[39m 2011        F     2501… 2078… 84016 4562… 1010… 4663… 2527… 2066… 80149 4564…\n",
      "\u001b[90m23\u001b[39m 2012        F     2635… 2133… 84402 4753… 1009… 4854… 2648… 2153… 87593 4774…\n",
      "\u001b[90m24\u001b[39m 2013        F     2636… 2182… 88235 4801… 1063… 4908… 2655… 2140… 80328 4771…\n",
      "\u001b[90m25\u001b[39m 2014        F     2786… 2279… 1007… 5046… 1205… 5167… 2839… 2236… 62446 5051…\n",
      "\u001b[90m26\u001b[39m 2015        F     2991… 2390… 1156… 5361… 1359… 5497… 3051… 2335… 57396 5361…\n",
      "\u001b[90m27\u001b[39m 2016        F     3310… 2537… 1250… 5826… 1463… 5972… 3375… 2464… 55965 5812…\n",
      "\u001b[90m28\u001b[39m 2017        F     3648… 2749… 1313… 6384… 1447… 6529… 3651… 2746… 59050 6370…\n",
      "\u001b[90m29\u001b[39m 2018        F     3786… 2920… 1295… 6695… 1409… 6836… 3823… 2933… 64541 6729…\n",
      "\u001b[90m30\u001b[39m 2019        P     3889… 3073… 1119… 6933… 1416… 7074… 3851… 3153… 20961 6936…\n",
      "\u001b[90m31\u001b[39m 2020        P     2919… 2323… 91080 5180… 1539… 5334… 2910… 2258… 0     5095…\n",
      "\u001b[90m32\u001b[39m 1. The cla… \u001b[31mNA\u001b[39m    \u001b[31mNA\u001b[39m    \u001b[31mNA\u001b[39m    \u001b[31mNA\u001b[39m    \u001b[31mNA\u001b[39m    \u001b[31mNA\u001b[39m    \u001b[31mNA\u001b[39m    \u001b[31mNA\u001b[39m    \u001b[31mNA\u001b[39m    \u001b[31mNA\u001b[39m    \u001b[31mNA\u001b[39m   \n",
      "\u001b[90m33\u001b[39m 2. Classif… \u001b[31mNA\u001b[39m    \u001b[31mNA\u001b[39m    \u001b[31mNA\u001b[39m    \u001b[31mNA\u001b[39m    \u001b[31mNA\u001b[39m    \u001b[31mNA\u001b[39m    \u001b[31mNA\u001b[39m    \u001b[31mNA\u001b[39m    \u001b[31mNA\u001b[39m    \u001b[31mNA\u001b[39m    \u001b[31mNA\u001b[39m   \n",
      "\u001b[90m34\u001b[39m 3. Classif… \u001b[31mNA\u001b[39m    \u001b[31mNA\u001b[39m    \u001b[31mNA\u001b[39m    \u001b[31mNA\u001b[39m    \u001b[31mNA\u001b[39m    \u001b[31mNA\u001b[39m    \u001b[31mNA\u001b[39m    \u001b[31mNA\u001b[39m    \u001b[31mNA\u001b[39m    \u001b[31mNA\u001b[39m    \u001b[31mNA\u001b[39m   \n",
      "\u001b[90m35\u001b[39m 4. Oversea… \u001b[31mNA\u001b[39m    \u001b[31mNA\u001b[39m    \u001b[31mNA\u001b[39m    \u001b[31mNA\u001b[39m    \u001b[31mNA\u001b[39m    \u001b[31mNA\u001b[39m    \u001b[31mNA\u001b[39m    \u001b[31mNA\u001b[39m    \u001b[31mNA\u001b[39m    \u001b[31mNA\u001b[39m    \u001b[31mNA\u001b[39m   \n",
      "\u001b[90m36\u001b[39m 5. New Zea… \u001b[31mNA\u001b[39m    \u001b[31mNA\u001b[39m    \u001b[31mNA\u001b[39m    \u001b[31mNA\u001b[39m    \u001b[31mNA\u001b[39m    \u001b[31mNA\u001b[39m    \u001b[31mNA\u001b[39m    \u001b[31mNA\u001b[39m    \u001b[31mNA\u001b[39m    \u001b[31mNA\u001b[39m    \u001b[31mNA\u001b[39m   \n",
      "\u001b[90m37\u001b[39m 6. 'Total … \u001b[31mNA\u001b[39m    \u001b[31mNA\u001b[39m    \u001b[31mNA\u001b[39m    \u001b[31mNA\u001b[39m    \u001b[31mNA\u001b[39m    \u001b[31mNA\u001b[39m    \u001b[31mNA\u001b[39m    \u001b[31mNA\u001b[39m    \u001b[31mNA\u001b[39m    \u001b[31mNA\u001b[39m    \u001b[31mNA\u001b[39m   \n",
      "\u001b[90m38\u001b[39m 7. Mean es… \u001b[31mNA\u001b[39m    \u001b[31mNA\u001b[39m    \u001b[31mNA\u001b[39m    \u001b[31mNA\u001b[39m    \u001b[31mNA\u001b[39m    \u001b[31mNA\u001b[39m    \u001b[31mNA\u001b[39m    \u001b[31mNA\u001b[39m    \u001b[31mNA\u001b[39m    \u001b[31mNA\u001b[39m    \u001b[31mNA\u001b[39m   \n",
      "\u001b[90m39\u001b[39m 8. Total b… \u001b[31mNA\u001b[39m    \u001b[31mNA\u001b[39m    \u001b[31mNA\u001b[39m    \u001b[31mNA\u001b[39m    \u001b[31mNA\u001b[39m    \u001b[31mNA\u001b[39m    \u001b[31mNA\u001b[39m    \u001b[31mNA\u001b[39m    \u001b[31mNA\u001b[39m    \u001b[31mNA\u001b[39m    \u001b[31mNA\u001b[39m   \n",
      "\u001b[90m40\u001b[39m 9. Oversea… \u001b[31mNA\u001b[39m    \u001b[31mNA\u001b[39m    \u001b[31mNA\u001b[39m    \u001b[31mNA\u001b[39m    \u001b[31mNA\u001b[39m    \u001b[31mNA\u001b[39m    \u001b[31mNA\u001b[39m    \u001b[31mNA\u001b[39m    \u001b[31mNA\u001b[39m    \u001b[31mNA\u001b[39m    \u001b[31mNA\u001b[39m   \n",
      "\u001b[90m41\u001b[39m 10. New Ze… \u001b[31mNA\u001b[39m    \u001b[31mNA\u001b[39m    \u001b[31mNA\u001b[39m    \u001b[31mNA\u001b[39m    \u001b[31mNA\u001b[39m    \u001b[31mNA\u001b[39m    \u001b[31mNA\u001b[39m    \u001b[31mNA\u001b[39m    \u001b[31mNA\u001b[39m    \u001b[31mNA\u001b[39m    \u001b[31mNA\u001b[39m   \n",
      "\u001b[90m42\u001b[39m 11. Mean e… \u001b[31mNA\u001b[39m    \u001b[31mNA\u001b[39m    \u001b[31mNA\u001b[39m    \u001b[31mNA\u001b[39m    \u001b[31mNA\u001b[39m    \u001b[31mNA\u001b[39m    \u001b[31mNA\u001b[39m    \u001b[31mNA\u001b[39m    \u001b[31mNA\u001b[39m    \u001b[31mNA\u001b[39m    \u001b[31mNA\u001b[39m   \n",
      "\u001b[90m43\u001b[39m 12. Mean e… \u001b[31mNA\u001b[39m    \u001b[31mNA\u001b[39m    \u001b[31mNA\u001b[39m    \u001b[31mNA\u001b[39m    \u001b[31mNA\u001b[39m    \u001b[31mNA\u001b[39m    \u001b[31mNA\u001b[39m    \u001b[31mNA\u001b[39m    \u001b[31mNA\u001b[39m    \u001b[31mNA\u001b[39m    \u001b[31mNA\u001b[39m   \n",
      "\u001b[90m44\u001b[39m Note: Esti… \u001b[31mNA\u001b[39m    \u001b[31mNA\u001b[39m    \u001b[31mNA\u001b[39m    \u001b[31mNA\u001b[39m    \u001b[31mNA\u001b[39m    \u001b[31mNA\u001b[39m    \u001b[31mNA\u001b[39m    \u001b[31mNA\u001b[39m    \u001b[31mNA\u001b[39m    \u001b[31mNA\u001b[39m    \u001b[31mNA\u001b[39m   \n",
      "\u001b[90m45\u001b[39m Symbols: F… \u001b[31mNA\u001b[39m    \u001b[31mNA\u001b[39m    \u001b[31mNA\u001b[39m    \u001b[31mNA\u001b[39m    \u001b[31mNA\u001b[39m    \u001b[31mNA\u001b[39m    \u001b[31mNA\u001b[39m    \u001b[31mNA\u001b[39m    \u001b[31mNA\u001b[39m    \u001b[31mNA\u001b[39m    \u001b[31mNA\u001b[39m   \n",
      "\u001b[90m46\u001b[39m Source: St… \u001b[31mNA\u001b[39m    \u001b[31mNA\u001b[39m    \u001b[31mNA\u001b[39m    \u001b[31mNA\u001b[39m    \u001b[31mNA\u001b[39m    \u001b[31mNA\u001b[39m    \u001b[31mNA\u001b[39m    \u001b[31mNA\u001b[39m    \u001b[31mNA\u001b[39m    \u001b[31mNA\u001b[39m    \u001b[31mNA\u001b[39m   \n",
      "\u001b[90m# ℹ 3 more variables: ...13 <chr>, ...14 <chr>, ...15 <chr>\u001b[39m\n"
     ]
    }
   ],
   "source": [
    "total_rows <- nrow(data)\n",
    "print(data, n=total_rows)\n"
   ]
  },
  {
   "cell_type": "code",
   "execution_count": 6,
   "id": "152a75e9-1183-4567-8966-68a93d2b48b5",
   "metadata": {},
   "outputs": [
    {
     "name": "stdout",
     "output_type": "stream",
     "text": [
      "Rows: 46\n",
      "Columns: 15\n",
      "$ `Table 1` \u001b[3m\u001b[90m<chr>\u001b[39m\u001b[23m \"International travel and migration summary\", \"By direction …\n",
      "$ ...2      \u001b[3m\u001b[90m<chr>\u001b[39m\u001b[23m NA, NA, \"Status of estimated migration(1)\", NA, NA, NA, NA, …\n",
      "$ ...3      \u001b[3m\u001b[90m<chr>\u001b[39m\u001b[23m NA, NA, \"Arrivals\", \"Intentions-based measure(2)\", \"Overseas…\n",
      "$ ...4      \u001b[3m\u001b[90m<chr>\u001b[39m\u001b[23m NA, NA, NA, NA, \"NZ-resident travellers(5)\", \"SRAZA\", NA, \"1…\n",
      "$ ...5      \u001b[3m\u001b[90m<chr>\u001b[39m\u001b[23m NA, NA, NA, NA, \"Residual(6)\", NA, NA, \"5201\", \"5436\", \"6049…\n",
      "$ ...6      \u001b[3m\u001b[90m<chr>\u001b[39m\u001b[23m NA, NA, NA, \"Outcomes-based measure(3)\", \"Short-term movemen…\n",
      "$ ...7      \u001b[3m\u001b[90m<chr>\u001b[39m\u001b[23m NA, NA, NA, NA, \"Long-term movements (migrant arrivals)(7)\",…\n",
      "$ ...8      \u001b[3m\u001b[90m<chr>\u001b[39m\u001b[23m NA, NA, NA, \"Total movements(8)\", NA, \"STZAA\", NA, \"315185\",…\n",
      "$ ...9      \u001b[3m\u001b[90m<chr>\u001b[39m\u001b[23m NA, NA, \"Departures\", \"Intentions-based measure(2)\", \"Overse…\n",
      "$ ...10     \u001b[3m\u001b[90m<chr>\u001b[39m\u001b[23m NA, NA, NA, NA, \"NZ-resident travellers(10)\", \"SRDZA\", NA, \"…\n",
      "$ ...11     \u001b[3m\u001b[90m<chr>\u001b[39m\u001b[23m NA, NA, NA, NA, \"Residual(6)\", NA, NA, \"5934\", \"6927\", \"7078…\n",
      "$ ...12     \u001b[3m\u001b[90m<chr>\u001b[39m\u001b[23m NA, NA, NA, \"Outcomes-based measure(3)\", \"Short-term movemen…\n",
      "$ ...13     \u001b[3m\u001b[90m<chr>\u001b[39m\u001b[23m NA, NA, NA, NA, \"Long-term movements (migrant departures)(11…\n",
      "$ ...14     \u001b[3m\u001b[90m<chr>\u001b[39m\u001b[23m NA, NA, NA, \"Total movements(8)\", NA, \"STZDA\", NA, \"338421\",…\n",
      "$ ...15     \u001b[3m\u001b[90m<chr>\u001b[39m\u001b[23m NA, NA, \"Estimated net migration(12)\", NA, NA, \"SEMANE\", NA,…\n"
     ]
    }
   ],
   "source": [
    "glimpse(data)"
   ]
  },
  {
   "cell_type": "code",
   "execution_count": 7,
   "id": "8886230d-3cf1-402b-903f-23ec1312f676",
   "metadata": {},
   "outputs": [],
   "source": [
    "# Year ended June\n",
    "data <- data[(21:31), ]\n"
   ]
  },
  {
   "cell_type": "code",
   "execution_count": 8,
   "id": "44f39ce5-c942-4f29-809a-92a6d14650a4",
   "metadata": {},
   "outputs": [
    {
     "name": "stdout",
     "output_type": "stream",
     "text": [
      "\u001b[90m# A tibble: 11 × 8\u001b[39m\n",
      "   Period Status OverseasVisitors NZResidents Residual `Short-term movements`\n",
      "    \u001b[3m\u001b[90m<int>\u001b[39m\u001b[23m \u001b[3m\u001b[90m<chr>\u001b[39m\u001b[23m             \u001b[3m\u001b[90m<int>\u001b[39m\u001b[23m       \u001b[3m\u001b[90m<int>\u001b[39m\u001b[23m    \u001b[3m\u001b[90m<int>\u001b[39m\u001b[23m                  \u001b[3m\u001b[90m<int>\u001b[39m\u001b[23m\n",
      "\u001b[90m 1\u001b[39m   \u001b[4m2\u001b[24m010 F               2\u001b[4m5\u001b[24m\u001b[4m0\u001b[24m\u001b[4m1\u001b[24m264     1\u001b[4m9\u001b[24m\u001b[4m6\u001b[24m\u001b[4m5\u001b[24m101    \u001b[4m8\u001b[24m\u001b[4m2\u001b[24m305                4\u001b[4m4\u001b[24m\u001b[4m4\u001b[24m\u001b[4m6\u001b[24m884\n",
      "\u001b[90m 2\u001b[39m   \u001b[4m2\u001b[24m011 F               2\u001b[4m5\u001b[24m\u001b[4m0\u001b[24m\u001b[4m1\u001b[24m303     2\u001b[4m0\u001b[24m\u001b[4m7\u001b[24m\u001b[4m8\u001b[24m575    \u001b[4m8\u001b[24m\u001b[4m4\u001b[24m016                4\u001b[4m5\u001b[24m\u001b[4m6\u001b[24m\u001b[4m2\u001b[24m868\n",
      "\u001b[90m 3\u001b[39m   \u001b[4m2\u001b[24m012 F               2\u001b[4m6\u001b[24m\u001b[4m3\u001b[24m\u001b[4m5\u001b[24m726     2\u001b[4m1\u001b[24m\u001b[4m3\u001b[24m\u001b[4m3\u001b[24m887    \u001b[4m8\u001b[24m\u001b[4m4\u001b[24m402                4\u001b[4m7\u001b[24m\u001b[4m5\u001b[24m\u001b[4m3\u001b[24m049\n",
      "\u001b[90m 4\u001b[39m   \u001b[4m2\u001b[24m013 F               2\u001b[4m6\u001b[24m\u001b[4m3\u001b[24m\u001b[4m6\u001b[24m896     2\u001b[4m1\u001b[24m\u001b[4m8\u001b[24m\u001b[4m2\u001b[24m967    \u001b[4m8\u001b[24m\u001b[4m8\u001b[24m235                4\u001b[4m8\u001b[24m\u001b[4m0\u001b[24m\u001b[4m1\u001b[24m776\n",
      "\u001b[90m 5\u001b[39m   \u001b[4m2\u001b[24m014 F               2\u001b[4m7\u001b[24m\u001b[4m8\u001b[24m\u001b[4m6\u001b[24m826     2\u001b[4m2\u001b[24m\u001b[4m7\u001b[24m\u001b[4m9\u001b[24m597   \u001b[4m1\u001b[24m\u001b[4m0\u001b[24m\u001b[4m0\u001b[24m784                5\u001b[4m0\u001b[24m\u001b[4m4\u001b[24m\u001b[4m6\u001b[24m669\n",
      "\u001b[90m 6\u001b[39m   \u001b[4m2\u001b[24m015 F               2\u001b[4m9\u001b[24m\u001b[4m9\u001b[24m\u001b[4m1\u001b[24m854     2\u001b[4m3\u001b[24m\u001b[4m9\u001b[24m\u001b[4m0\u001b[24m007   \u001b[4m1\u001b[24m\u001b[4m1\u001b[24m\u001b[4m5\u001b[24m655                5\u001b[4m3\u001b[24m\u001b[4m6\u001b[24m\u001b[4m1\u001b[24m572\n",
      "\u001b[90m 7\u001b[39m   \u001b[4m2\u001b[24m016 F               3\u001b[4m3\u001b[24m\u001b[4m1\u001b[24m\u001b[4m0\u001b[24m390     2\u001b[4m5\u001b[24m\u001b[4m3\u001b[24m\u001b[4m7\u001b[24m045   \u001b[4m1\u001b[24m\u001b[4m2\u001b[24m\u001b[4m5\u001b[24m055                5\u001b[4m8\u001b[24m\u001b[4m2\u001b[24m\u001b[4m6\u001b[24m154\n",
      "\u001b[90m 8\u001b[39m   \u001b[4m2\u001b[24m017 F               3\u001b[4m6\u001b[24m\u001b[4m4\u001b[24m\u001b[4m8\u001b[24m204     2\u001b[4m7\u001b[24m\u001b[4m4\u001b[24m\u001b[4m9\u001b[24m666   \u001b[4m1\u001b[24m\u001b[4m3\u001b[24m\u001b[4m1\u001b[24m355                6\u001b[4m3\u001b[24m\u001b[4m8\u001b[24m\u001b[4m4\u001b[24m471\n",
      "\u001b[90m 9\u001b[39m   \u001b[4m2\u001b[24m018 F               3\u001b[4m7\u001b[24m\u001b[4m8\u001b[24m\u001b[4m6\u001b[24m927     2\u001b[4m9\u001b[24m\u001b[4m2\u001b[24m\u001b[4m0\u001b[24m193   \u001b[4m1\u001b[24m\u001b[4m2\u001b[24m\u001b[4m9\u001b[24m536                6\u001b[4m6\u001b[24m\u001b[4m9\u001b[24m\u001b[4m5\u001b[24m705\n",
      "\u001b[90m10\u001b[39m   \u001b[4m2\u001b[24m019 P               3\u001b[4m8\u001b[24m\u001b[4m8\u001b[24m\u001b[4m9\u001b[24m798     3\u001b[4m0\u001b[24m\u001b[4m7\u001b[24m\u001b[4m3\u001b[24m219   \u001b[4m1\u001b[24m\u001b[4m1\u001b[24m\u001b[4m1\u001b[24m969                6\u001b[4m9\u001b[24m\u001b[4m3\u001b[24m\u001b[4m3\u001b[24m345\n",
      "\u001b[90m11\u001b[39m   \u001b[4m2\u001b[24m020 P               2\u001b[4m9\u001b[24m\u001b[4m1\u001b[24m\u001b[4m9\u001b[24m122     2\u001b[4m3\u001b[24m\u001b[4m2\u001b[24m\u001b[4m3\u001b[24m853    \u001b[4m9\u001b[24m\u001b[4m1\u001b[24m080                5\u001b[4m1\u001b[24m\u001b[4m8\u001b[24m\u001b[4m0\u001b[24m115\n",
      "\u001b[90m# ℹ 2 more variables: `Long-term movements` <int>, `Total movements` <int>\u001b[39m\n"
     ]
    }
   ],
   "source": [
    "# Arrivals\n",
    "data_Arrivals <- data %>% select(1:8)\n",
    "\n",
    "names(data_Arrivals) <- c(\"Period\", \"Status\", \"OverseasVisitors\", \"NZResidents\", \"Residual\", \"Short-term movements\", \"Long-term movements\", \"Total movements\")\n",
    "\n",
    "# data_Arrivals <- data_Arrivals %>% select_if(~!all(is.na(.)))\n",
    "\n",
    "data_Arrivals <- data_Arrivals %>%\n",
    "  mutate_at(vars(-\"Status\"), as.integer)\n",
    "\n",
    "# glimpse(data_Arrivals)\n",
    "\n",
    "options(data_Arrivals.width = Inf)\n",
    "\n",
    "data_Arrivals %>%\n",
    "  select_all() %>%\n",
    "  print()"
   ]
  },
  {
   "cell_type": "code",
   "execution_count": 9,
   "id": "508f68ff-069c-4cef-99c8-ff33c2f7a2e0",
   "metadata": {},
   "outputs": [
    {
     "name": "stdout",
     "output_type": "stream",
     "text": [
      "\u001b[90m# A tibble: 11 × 8\u001b[39m\n",
      "   Period Status OverseasVisitors NZResidents Residual `Short-term movements`\n",
      "    \u001b[3m\u001b[90m<int>\u001b[39m\u001b[23m \u001b[3m\u001b[90m<chr>\u001b[39m\u001b[23m             \u001b[3m\u001b[90m<int>\u001b[39m\u001b[23m       \u001b[3m\u001b[90m<int>\u001b[39m\u001b[23m    \u001b[3m\u001b[90m<int>\u001b[39m\u001b[23m                  \u001b[3m\u001b[90m<int>\u001b[39m\u001b[23m\n",
      "\u001b[90m 1\u001b[39m   \u001b[4m2\u001b[24m010 F               2\u001b[4m5\u001b[24m\u001b[4m1\u001b[24m\u001b[4m3\u001b[24m574     1\u001b[4m9\u001b[24m\u001b[4m6\u001b[24m\u001b[4m8\u001b[24m175    \u001b[4m6\u001b[24m\u001b[4m5\u001b[24m801                4\u001b[4m4\u001b[24m\u001b[4m5\u001b[24m\u001b[4m4\u001b[24m655\n",
      "\u001b[90m 2\u001b[39m   \u001b[4m2\u001b[24m011 F               2\u001b[4m5\u001b[24m\u001b[4m2\u001b[24m\u001b[4m7\u001b[24m812     2\u001b[4m0\u001b[24m\u001b[4m6\u001b[24m\u001b[4m6\u001b[24m696    \u001b[4m8\u001b[24m\u001b[4m0\u001b[24m149                4\u001b[4m5\u001b[24m\u001b[4m6\u001b[24m\u001b[4m4\u001b[24m358\n",
      "\u001b[90m 3\u001b[39m   \u001b[4m2\u001b[24m012 F               2\u001b[4m6\u001b[24m\u001b[4m4\u001b[24m\u001b[4m8\u001b[24m286     2\u001b[4m1\u001b[24m\u001b[4m5\u001b[24m\u001b[4m3\u001b[24m586    \u001b[4m8\u001b[24m\u001b[4m7\u001b[24m593                4\u001b[4m7\u001b[24m\u001b[4m7\u001b[24m\u001b[4m4\u001b[24m001\n",
      "\u001b[90m 4\u001b[39m   \u001b[4m2\u001b[24m013 F               2\u001b[4m6\u001b[24m\u001b[4m5\u001b[24m\u001b[4m5\u001b[24m934     2\u001b[4m1\u001b[24m\u001b[4m4\u001b[24m\u001b[4m0\u001b[24m653    \u001b[4m8\u001b[24m\u001b[4m0\u001b[24m328                4\u001b[4m7\u001b[24m\u001b[4m7\u001b[24m\u001b[4m1\u001b[24m422\n",
      "\u001b[90m 5\u001b[39m   \u001b[4m2\u001b[24m014 F               2\u001b[4m8\u001b[24m\u001b[4m3\u001b[24m\u001b[4m9\u001b[24m951     2\u001b[4m2\u001b[24m\u001b[4m3\u001b[24m\u001b[4m6\u001b[24m607    \u001b[4m6\u001b[24m\u001b[4m2\u001b[24m446                5\u001b[4m0\u001b[24m\u001b[4m5\u001b[24m\u001b[4m1\u001b[24m522\n",
      "\u001b[90m 6\u001b[39m   \u001b[4m2\u001b[24m015 F               3\u001b[4m0\u001b[24m\u001b[4m5\u001b[24m\u001b[4m1\u001b[24m740     2\u001b[4m3\u001b[24m\u001b[4m3\u001b[24m\u001b[4m5\u001b[24m276    \u001b[4m5\u001b[24m\u001b[4m7\u001b[24m396                5\u001b[4m3\u001b[24m\u001b[4m6\u001b[24m\u001b[4m1\u001b[24m157\n",
      "\u001b[90m 7\u001b[39m   \u001b[4m2\u001b[24m016 F               3\u001b[4m3\u001b[24m\u001b[4m7\u001b[24m\u001b[4m5\u001b[24m380     2\u001b[4m4\u001b[24m\u001b[4m6\u001b[24m\u001b[4m4\u001b[24m066    \u001b[4m5\u001b[24m\u001b[4m5\u001b[24m965                5\u001b[4m8\u001b[24m\u001b[4m1\u001b[24m\u001b[4m2\u001b[24m923\n",
      "\u001b[90m 8\u001b[39m   \u001b[4m2\u001b[24m017 F               3\u001b[4m6\u001b[24m\u001b[4m5\u001b[24m\u001b[4m1\u001b[24m665     2\u001b[4m7\u001b[24m\u001b[4m4\u001b[24m\u001b[4m6\u001b[24m295    \u001b[4m5\u001b[24m\u001b[4m9\u001b[24m050                6\u001b[4m3\u001b[24m\u001b[4m7\u001b[24m\u001b[4m0\u001b[24m762\n",
      "\u001b[90m 9\u001b[39m   \u001b[4m2\u001b[24m018 F               3\u001b[4m8\u001b[24m\u001b[4m2\u001b[24m\u001b[4m3\u001b[24m916     2\u001b[4m9\u001b[24m\u001b[4m3\u001b[24m\u001b[4m3\u001b[24m031    \u001b[4m6\u001b[24m\u001b[4m4\u001b[24m541                6\u001b[4m7\u001b[24m\u001b[4m2\u001b[24m\u001b[4m9\u001b[24m159\n",
      "\u001b[90m10\u001b[39m   \u001b[4m2\u001b[24m019 P               3\u001b[4m8\u001b[24m\u001b[4m5\u001b[24m\u001b[4m1\u001b[24m020     3\u001b[4m1\u001b[24m\u001b[4m5\u001b[24m\u001b[4m3\u001b[24m813    \u001b[4m2\u001b[24m\u001b[4m0\u001b[24m961                6\u001b[4m9\u001b[24m\u001b[4m3\u001b[24m\u001b[4m6\u001b[24m487\n",
      "\u001b[90m11\u001b[39m   \u001b[4m2\u001b[24m020 P               2\u001b[4m9\u001b[24m\u001b[4m1\u001b[24m\u001b[4m0\u001b[24m948     2\u001b[4m2\u001b[24m\u001b[4m5\u001b[24m\u001b[4m8\u001b[24m828        0                5\u001b[4m0\u001b[24m\u001b[4m9\u001b[24m\u001b[4m5\u001b[24m261\n",
      "\u001b[90m# ℹ 2 more variables: `Long-term movements` <int>, `Total movements` <int>\u001b[39m\n"
     ]
    }
   ],
   "source": [
    "# Departures\n",
    "data_Departures <- data %>% select(1, 2, 9:14)\n",
    "\n",
    "names(data_Departures) <- c(\"Period\", \"Status\", \"OverseasVisitors\", \"NZResidents\", \"Residual\", \"Short-term movements\", \"Long-term movements\", \"Total movements\")\n",
    "\n",
    "# data_Arrivals <- data_Arrivals %>% select_if(~!all(is.na(.)))\n",
    "\n",
    "data_Departures <- data_Departures %>%\n",
    "  mutate_at(vars(-\"Status\"), as.integer)\n",
    "\n",
    "# glimpse(data_Departures)\n",
    "\n",
    "options(data_Departures = Inf)\n",
    "\n",
    "data_Departures %>%\n",
    "  select_all() %>%\n",
    "  print()"
   ]
  },
  {
   "cell_type": "code",
   "execution_count": 21,
   "id": "c4fdb6e5-e558-4fcb-bf59-734eff7bc314",
   "metadata": {},
   "outputs": [
    {
     "data": {
      "image/png": "[encoded data removed]",
      "text/plain": [
       "plot without title"
      ]
     },
     "metadata": {
      "image/png": {
       "height": 420,
       "width": 420
      }
     },
     "output_type": "display_data"
    }
   ],
   "source": [
    "# Merge two data frames\n",
    "combined_data <- bind_rows(\n",
    "  data_Arrivals %>% select(Period, `Total movements`) %>% mutate(Type = \"Arrivals\"),\n",
    "  data_Departures %>% select(Period, `Total movements`) %>% mutate(Type = \"Departures\")\n",
    ")\n",
    "\n",
    "# Convert Total movements to millions of units\n",
    "combined_data$`Total movements` <- combined_data$`Total movements` / 1e6\n",
    "\n",
    "ggplot(combined_data, aes(x = factor(Period), y = `Total movements`, color = Type, group = Type)) +\n",
    "  geom_line() +\n",
    "  labs(title = \"Trend of Arrivals and Departures (Year ended June)\", \n",
    "       x = \"Year\", \n",
    "       y = \"Total movements (in millions)\") +\n",
    "  theme_minimal() +\n",
    "  scale_color_manual(values = c(\"Arrivals\" = \"blue\", \"Departures\" = \"red\"))\n",
    "\n",
    "\n",
    "\n",
    "# ggsave(plot_Trend,filename = \"Trend of Arrivals and Departures.jpg\")"
   ]
  },
  {
   "cell_type": "code",
   "execution_count": 20,
   "id": "c7e971ca-c388-4438-8765-79958579cc5e",
   "metadata": {},
   "outputs": [
    {
     "data": {
      "text/html": [
       "'在大多数年份中，新西兰吸引了更多的人口，净移民人数为正。'"
      ],
      "text/latex": [
       "'在大多数年份中，新西兰吸引了更多的人口，净移民人数为正。'"
      ],
      "text/markdown": [
       "'在大多数年份中，新西兰吸引了更多的人口，净移民人数为正。'"
      ],
      "text/plain": [
       "[1] \"在大多数年份中，新西兰吸引了更多的人口，净移民人数为正。\""
      ]
     },
     "metadata": {},
     "output_type": "display_data"
    },
    {
     "data": {
      "image/png": "[encoded data removed]",
      "text/plain": [
       "plot without title"
      ]
     },
     "metadata": {
      "image/png": {
       "height": 420,
       "width": 420
      }
     },
     "output_type": "display_data"
    }
   ],
   "source": [
    "# The net difference between the total number of people entering and leaving New Zealand, including travelers and immigrants.\n",
    "net_migration <- data_Arrivals %>% \n",
    "  select(Period, Arrivals = `Total movements`) %>%\n",
    "  left_join(data_Departures %>% select(Period, Departures = `Total movements`), by = \"Period\") %>%\n",
    "  mutate(NetMigration = Arrivals - Departures)\n",
    "\n",
    "# Convert Total movements to thousands units\n",
    "net_migration$`NetMigration` <- net_migration$`NetMigration` / 1000\n",
    "\n",
    "ggplot(net_migration, aes(x = factor(Period), y = NetMigration)) +\n",
    "  geom_line(group = 1, color = ifelse(net_migration$NetMigration >= 0, \"blue\", \"red\")) +\n",
    "  geom_hline(yintercept = 0, linetype = \"dashed\") + \n",
    "  labs(title = \"Net Migration Trend (Year ended June)\", \n",
    "       x = \"Year\", \n",
    "       y = \"Net Migration (in thousand)\") +\n",
    "  theme_minimal()\n",
    "\n",
    "\n",
    "# if (mean(net_migration$NetMigration) > 0) {\n",
    "#   conclusion <- \"在大多数年份中，新西兰吸引了更多的人口，净移民人数为正。\"\n",
    "# } else {\n",
    "#   conclusion <- \"在大多数年份中，新西兰流失了更多的人口，净移民人数为负。\"\n",
    "# }\n",
    "# conclusion\n",
    "\n",
    "# ggsave(plot0,filename = \"p.jpg\")\n"
   ]
  },
  {
   "cell_type": "markdown",
   "id": "4fff559a-af65-417e-82f9-bb7bc4eb3e8d",
   "metadata": {},
   "source": [
    "这张“Net Migration Trend (Year ended June)”图显示了从2010年到2020年的新西兰净移民趋势。从图中我们可以观察到以下几点并得出相关结论：\r\n",
    "\r\n",
    "1. **负净移民期**：从2010年到约2013年中，净移民人数为负（用红线表示），说明在这段时间内，新西兰的离境人数超过了入境人数。这意味着新西兰在这段时间里流失了人口。\r\n",
    "\r\n",
    "2. **正净移民期的开始**：从2013年开始，净移民数开始增加并在接下来的几年内保持正增长。这说明从这个时间点开始，新西兰吸引了更多的人口，入境人数超过了离境人数。\r\n",
    "\r\n",
    "3. **净移民数的波动**：在2015年到2018年之间，净移民数经历了一些波动，但总体上保持正增长。\r\n",
    "\r\n",
    "4. **显著增长**：从2018年开始，净移民数呈现显著的增长，直到2020年。这可能意味着新西兰在这段时间里对外国人更有吸引力，或者国内的经济、社会和政治环境发生了积极的变化，导致更多人选择移民到新西兰。\r\n",
    "\r\n",
    "**结论**：\r\n",
    "- 在2010年到2013年之间，新西兰流失了人口，但从2013年开始，情况发生了逆转，新西兰开始吸引更多的移民。\r\n",
    "- 从2018年到2020年，新西兰的净移民数急剧上升，这可能是由于某些有利条件或策略导致的。\r\n",
    "- 整体上，从图中可以看出，在过去十年中，新西兰的净移民数从负增长转为正增长，并在近几年呈现出强劲的增长趋势。\r\n",
    "\r\n",
    "为了更全面地解释这一趋势，可能还需要考虑其他外部因素，例如全球经济趋势、新西兰的政策变化或其他可能影响移民的因素。"
   ]
  },
  {
   "cell_type": "code",
   "execution_count": null,
   "id": "cfe67caf-8512-47a7-9f0d-45b76ae6380b",
   "metadata": {},
   "outputs": [],
   "source": []
  }
 ],
 "metadata": {
  "kernelspec": {
   "display_name": "R",
   "language": "R",
   "name": "ir"
  },
  "language_info": {
   "codemirror_mode": "r",
   "file_extension": ".r",
   "mimetype": "text/x-r-source",
   "name": "R",
   "pygments_lexer": "r",
   "version": "4.3.1"
  }
 },
 "nbformat": 4,
 "nbformat_minor": 5
}
